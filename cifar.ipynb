{
  "nbformat": 4,
  "nbformat_minor": 0,
  "metadata": {
    "colab": {
      "name": "cifar.ipynb",
      "provenance": [],
      "authorship_tag": "ABX9TyN6bCDqgtNxUrNA9gkkdwCJ",
      "include_colab_link": true
    },
    "kernelspec": {
      "name": "python3",
      "display_name": "Python 3"
    },
    "accelerator": "GPU"
  },
  "cells": [
    {
      "cell_type": "markdown",
      "metadata": {
        "id": "view-in-github",
        "colab_type": "text"
      },
      "source": [
        "<a href=\"https://colab.research.google.com/github/lechgu/4096/blob/master/cifar.ipynb\" target=\"_parent\"><img src=\"https://colab.research.google.com/assets/colab-badge.svg\" alt=\"Open In Colab\"/></a>"
      ]
    },
    {
      "cell_type": "code",
      "metadata": {
        "id": "85KKiupIPCCM",
        "colab_type": "code",
        "colab": {}
      },
      "source": [
        "from tensorflow import keras\n",
        "from keras.datasets import cifar10\n",
        "(x_train, y_train), (x_test, y_test) = cifar10.load_data()"
      ],
      "execution_count": null,
      "outputs": []
    },
    {
      "cell_type": "code",
      "metadata": {
        "id": "cZrsAWTVVMGJ",
        "colab_type": "code",
        "colab": {}
      },
      "source": [
        "from keras.utils import to_categorical\n",
        "NUM_CLASSES = 10\n",
        "x_train = x_train.astype('float32') / 255.0\n",
        "x_test = x_test.astype('float32') / 255.0\n",
        "y_train = to_categorical(y_train, NUM_CLASSES)\n",
        "y_test = to_categorical(y_test, NUM_CLASSES)"
      ],
      "execution_count": null,
      "outputs": []
    },
    {
      "cell_type": "code",
      "metadata": {
        "id": "dKP6ajcUWzEk",
        "colab_type": "code",
        "colab": {}
      },
      "source": [
        "from keras.layers import  Input, Flatten, Dense, Conv2D, BatchNormalization, LeakyReLU, Dropout, Activation\n",
        "from keras.models import  Model\n"
      ],
      "execution_count": null,
      "outputs": []
    },
    {
      "cell_type": "code",
      "metadata": {
        "id": "8zwrWgV0ar8M",
        "colab_type": "code",
        "colab": {}
      },
      "source": [
        "input_layer = Input((32,32,3))\n",
        "x = Conv2D(filters = 32, kernel_size = 3, strides = 1, padding = 'same')(input_layer)\n",
        "x = BatchNormalization()(x)\n",
        "x = LeakyReLU()(x)\n",
        "x = Conv2D(filters = 32, kernel_size = 3, strides = 2, padding = 'same')(x) \n",
        "x = BatchNormalization()(x)\n",
        "x = LeakyReLU()(x)\n",
        "x = Conv2D(filters = 64, kernel_size = 3, strides = 1, padding = 'same')(x) \n",
        "x = BatchNormalization()(x)\n",
        "x = LeakyReLU()(x)\n",
        "x = Conv2D(filters = 64, kernel_size = 3, strides = 2, padding = 'same')(x) \n",
        "x = BatchNormalization()(x)\n",
        "x = LeakyReLU()(x)\n",
        "x = Flatten()(x)\n",
        "x = Dense(128)(x)\n",
        "x = BatchNormalization()(x) \n",
        "x = LeakyReLU()(x)\n",
        "x = Dropout(rate = 0.5)(x)\n",
        "x = Dense(NUM_CLASSES)(x)\n",
        "output_layer = Activation('softmax')(x)\n",
        "model = Model(input_layer, output_layer)"
      ],
      "execution_count": null,
      "outputs": []
    },
    {
      "cell_type": "code",
      "metadata": {
        "id": "RNs9QhKPd31m",
        "colab_type": "code",
        "colab": {}
      },
      "source": [
        "from keras.optimizers import  Adam\n",
        "opt = Adam(lr=0.0005)\n",
        "model.compile(loss='categorical_crossentropy', optimizer=opt, metrics=['accuracy'])"
      ],
      "execution_count": null,
      "outputs": []
    },
    {
      "cell_type": "code",
      "metadata": {
        "id": "7PMgn6I0fTR7",
        "colab_type": "code",
        "colab": {
          "base_uri": "https://localhost:8080/",
          "height": 374
        },
        "outputId": "0ea83ac9-b123-457c-f3eb-1d1f88513076"
      },
      "source": [
        "model.fit(x_train, y_train, batch_size=32, epochs=10, shuffle=True)"
      ],
      "execution_count": null,
      "outputs": [
        {
          "output_type": "stream",
          "text": [
            "Epoch 1/10\n",
            "50000/50000 [==============================] - 17s 347us/step - loss: 1.5549 - accuracy: 0.4593\n",
            "Epoch 2/10\n",
            "50000/50000 [==============================] - 16s 329us/step - loss: 1.1482 - accuracy: 0.5959\n",
            "Epoch 3/10\n",
            "50000/50000 [==============================] - 17s 335us/step - loss: 1.0050 - accuracy: 0.6486\n",
            "Epoch 4/10\n",
            "50000/50000 [==============================] - 16s 329us/step - loss: 0.9147 - accuracy: 0.6823\n",
            "Epoch 5/10\n",
            "50000/50000 [==============================] - 17s 333us/step - loss: 0.8557 - accuracy: 0.7016\n",
            "Epoch 6/10\n",
            "50000/50000 [==============================] - 16s 325us/step - loss: 0.8084 - accuracy: 0.7179\n",
            "Epoch 7/10\n",
            "50000/50000 [==============================] - 16s 325us/step - loss: 0.7610 - accuracy: 0.7349\n",
            "Epoch 8/10\n",
            "50000/50000 [==============================] - 16s 330us/step - loss: 0.7199 - accuracy: 0.7486\n",
            "Epoch 9/10\n",
            "50000/50000 [==============================] - 16s 328us/step - loss: 0.6913 - accuracy: 0.7598\n",
            "Epoch 10/10\n",
            "50000/50000 [==============================] - 16s 326us/step - loss: 0.6528 - accuracy: 0.7699\n"
          ],
          "name": "stdout"
        },
        {
          "output_type": "execute_result",
          "data": {
            "text/plain": [
              "<keras.callbacks.callbacks.History at 0x7f4e757d7940>"
            ]
          },
          "metadata": {
            "tags": []
          },
          "execution_count": 13
        }
      ]
    },
    {
      "cell_type": "code",
      "metadata": {
        "id": "FlmndExYflfJ",
        "colab_type": "code",
        "colab": {
          "base_uri": "https://localhost:8080/",
          "height": 51
        },
        "outputId": "4159fb19-32bd-43ef-b17b-5d862c723655"
      },
      "source": [
        "model.evaluate(x_test, y_test)"
      ],
      "execution_count": null,
      "outputs": [
        {
          "output_type": "stream",
          "text": [
            "10000/10000 [==============================] - 1s 135us/step\n"
          ],
          "name": "stdout"
        },
        {
          "output_type": "execute_result",
          "data": {
            "text/plain": [
              "[0.8025250180244445, 0.7249000072479248]"
            ]
          },
          "metadata": {
            "tags": []
          },
          "execution_count": 14
        }
      ]
    },
    {
      "cell_type": "code",
      "metadata": {
        "id": "WLizdOSsgqlX",
        "colab_type": "code",
        "colab": {}
      },
      "source": [
        ""
      ],
      "execution_count": null,
      "outputs": []
    }
  ]
}